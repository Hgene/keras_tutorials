{
 "cells": [
  {
   "cell_type": "markdown",
   "metadata": {},
   "source": [
    "# 6.2 순환 신경망 이해하기\n",
    "여태까지 공부한 딥러닝 모델들은 feedforward network 형태를 띄고 있었다. 다시 말해 입력은 개별적으로 처리되었다. 예를 들어 뉴스기사의 토픽을 추출하는 모델이라고 생각한다면, 입력값으로 뉴스기사를 하나의 벡터형태로 변환하여 사용하였다.\n",
    "이와 반대로 사람이 문장을 읽는 것처럼, 이전에 나온것을 기억하면서 단어별로 또는 한눈에 들어오는 만큼씩 처리할 수 있는 모델이 있는데, 이를 순환신경망(RNN- Recurrent Neural Network) 이라고 한다. 시퀀스를 순회하면서 지금까지 처리한 정보를 상태(State)에 저장하고, 이를 다음처리에 input으로 사용하는 형태이다. 또한 이 경우에는 *인풋의 개수와 아웃풋의 개수가 다를수도 있다.*"
   ]
  },
  {
   "cell_type": "code",
   "execution_count": null,
   "metadata": {},
   "outputs": [],
   "source": []
  }
 ],
 "metadata": {
  "kernelspec": {
   "display_name": "tensor-gpu",
   "language": "python",
   "name": "tensor"
  },
  "language_info": {
   "codemirror_mode": {
    "name": "ipython",
    "version": 3
   },
   "file_extension": ".py",
   "mimetype": "text/x-python",
   "name": "python",
   "nbconvert_exporter": "python",
   "pygments_lexer": "ipython3",
   "version": "3.7.3"
  }
 },
 "nbformat": 4,
 "nbformat_minor": 2
}
